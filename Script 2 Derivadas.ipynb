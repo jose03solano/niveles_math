{
 "cells": [
  {
   "cell_type": "markdown",
   "metadata": {},
   "source": [
    "### El concepto de derivada"
   ]
  },
  {
   "cell_type": "markdown",
   "metadata": {},
   "source": [
    "La derivada de una función $f$ en el punto $x$ es dada por "
   ]
  },
  {
   "cell_type": "markdown",
   "metadata": {},
   "source": [
    "$$\n",
    "f'(x) =\\lim_{\\Delta x \\rightarrow 0} \\frac{f(x + \\Delta x)-f(x)}{\\Delta x}\n",
    "$$"
   ]
  },
  {
   "cell_type": "markdown",
   "metadata": {},
   "source": [
    "Siempre y cuando el límite exista. Todos los puntos $x$ para los cuales este el límite existe definen una función $f'$ de $x$.  "
   ]
  },
  {
   "cell_type": "code",
   "execution_count": null,
   "metadata": {},
   "outputs": [],
   "source": []
  },
  {
   "cell_type": "markdown",
   "metadata": {},
   "source": [
    "#### Estudio de la noción de límite"
   ]
  },
  {
   "cell_type": "markdown",
   "metadata": {},
   "source": [
    "Encuentre el límite de la función $f(x) = x^2 - x + 2$ cuando $x$ tiende a $2$."
   ]
  },
  {
   "cell_type": "markdown",
   "metadata": {},
   "source": [
    "Primero que todo se puede evaluar el comportamiento de la función mediante una gráfica de la misma. "
   ]
  },
  {
   "cell_type": "code",
   "execution_count": 3,
   "metadata": {},
   "outputs": [],
   "source": [
    "import numpy as np\n",
    "import matplotlib.pyplot as plt\n",
    "x = np.linspace(-3,5,num = 40)"
   ]
  },
  {
   "cell_type": "code",
   "execution_count": 5,
   "metadata": {},
   "outputs": [
    {
     "data": {
      "image/png": "[encoded data removed]",
      "text/plain": [
       "<Figure size 432x288 with 1 Axes>"
      ]
     },
     "metadata": {
      "needs_background": "light"
     },
     "output_type": "display_data"
    }
   ],
   "source": [
    "plt.plot(x, x**2 - x +2)\n",
    "plt.scatter(2, 4, label=\"límite cuando x tiende a 2\", color='r')\n",
    "plt.legend()\n",
    "plt.title(r\"Gráfico de $f(x)= x^2-x+2$\")\n",
    "plt.ylabel('f(x)')\n",
    "plt.show()"
   ]
  },
  {
   "cell_type": "markdown",
   "metadata": {},
   "source": [
    "De acuerdo con el gráfico y con la tabla de valores se observa que a medida que $x$ se acerca a $2$ la función $f(x)$ se aproxima a $4$."
   ]
  },
  {
   "cell_type": "code",
   "execution_count": 8,
   "metadata": {},
   "outputs": [
    {
     "data": {
      "text/html": [
       "<div>\n",
       "<style scoped>\n",
       "    .dataframe tbody tr th:only-of-type {\n",
       "        vertical-align: middle;\n",
       "    }\n",
       "\n",
       "    .dataframe tbody tr th {\n",
       "        vertical-align: top;\n",
       "    }\n",
       "\n",
       "    .dataframe thead th {\n",
       "        text-align: right;\n",
       "    }\n",
       "</style>\n",
       "<table border=\"1\" class=\"dataframe\">\n",
       "  <thead>\n",
       "    <tr style=\"text-align: right;\">\n",
       "      <th></th>\n",
       "      <th>x</th>\n",
       "      <th>f(x)</th>\n",
       "    </tr>\n",
       "  </thead>\n",
       "  <tbody>\n",
       "    <tr>\n",
       "      <th>0</th>\n",
       "      <td>1.90</td>\n",
       "      <td>3.7100</td>\n",
       "    </tr>\n",
       "    <tr>\n",
       "      <th>1</th>\n",
       "      <td>1.95</td>\n",
       "      <td>3.8525</td>\n",
       "    </tr>\n",
       "    <tr>\n",
       "      <th>2</th>\n",
       "      <td>1.99</td>\n",
       "      <td>3.9701</td>\n",
       "    </tr>\n",
       "    <tr>\n",
       "      <th>3</th>\n",
       "      <td>2.01</td>\n",
       "      <td>4.0301</td>\n",
       "    </tr>\n",
       "    <tr>\n",
       "      <th>4</th>\n",
       "      <td>2.05</td>\n",
       "      <td>4.1525</td>\n",
       "    </tr>\n",
       "    <tr>\n",
       "      <th>5</th>\n",
       "      <td>2.10</td>\n",
       "      <td>4.3100</td>\n",
       "    </tr>\n",
       "  </tbody>\n",
       "</table>\n",
       "</div>"
      ],
      "text/plain": [
       "      x    f(x)\n",
       "0  1.90  3.7100\n",
       "1  1.95  3.8525\n",
       "2  1.99  3.9701\n",
       "3  2.01  4.0301\n",
       "4  2.05  4.1525\n",
       "5  2.10  4.3100"
      ]
     },
     "execution_count": 8,
     "metadata": {},
     "output_type": "execute_result"
    }
   ],
   "source": [
    "import pandas as pd\n",
    "x = np.array([1.90, 1.95, 1.99, 2.01, 2.05, 2.1])\n",
    "y = x**2 - x +2\n",
    "tabla_valores = pd.DataFrame(list(zip(x,y)), columns = ['x', 'f(x)'])\n",
    "tabla_valores"
   ]
  },
  {
   "cell_type": "markdown",
   "metadata": {},
   "source": [
    "Para comprobar nuestra intuición vamos a calcular el valor del límite usando la librería de python llamada SymPy https://www.sympy.org"
   ]
  },
  {
   "cell_type": "markdown",
   "metadata": {},
   "source": [
    "La sintaxis de la función para calcular el límite es la siguiente"
   ]
  },
  {
   "cell_type": "markdown",
   "metadata": {},
   "source": [
    "                                    Limit(funcion, variable, punto)\n"
   ]
  },
  {
   "cell_type": "code",
   "execution_count": 11,
   "metadata": {},
   "outputs": [],
   "source": [
    "from sympy.interactive import printing "
   ]
  },
  {
   "cell_type": "code",
   "execution_count": 12,
   "metadata": {},
   "outputs": [],
   "source": [
    "from sympy import Limit, limit, Symbol, S"
   ]
  },
  {
   "cell_type": "code",
   "execution_count": 13,
   "metadata": {},
   "outputs": [],
   "source": [
    "# impresion con notacion matematica\n",
    "printing.init_printing(use_latex = 'mathjax')"
   ]
  },
  {
   "cell_type": "code",
   "execution_count": 14,
   "metadata": {},
   "outputs": [],
   "source": [
    "#se crea la variable \n",
    "x = Symbol('x') "
   ]
  },
  {
   "cell_type": "code",
   "execution_count": 15,
   "metadata": {},
   "outputs": [
    {
     "data": {
      "text/latex": [
       "$$\\lim_{x \\to 2^+}\\left(x^{2} - x + 2\\right)$$"
      ],
      "text/plain": [
       "     ⎛ 2        ⎞\n",
       " lim ⎝x  - x + 2⎠\n",
       "x─→2⁺            "
      ]
     },
     "execution_count": 15,
     "metadata": {},
     "output_type": "execute_result"
    }
   ],
   "source": [
    "# se crea el objeto Limit\n",
    "Limit(x**2 - x + 2, x, 2)"
   ]
  },
  {
   "cell_type": "code",
   "execution_count": 17,
   "metadata": {},
   "outputs": [
    {
     "data": {
      "text/latex": [
       "$$4$$"
      ],
      "text/plain": [
       "4"
      ]
     },
     "execution_count": 17,
     "metadata": {},
     "output_type": "execute_result"
    }
   ],
   "source": [
    "Limit(x**2 - x + 2, x, 2).doit()"
   ]
  },
  {
   "cell_type": "markdown",
   "metadata": {},
   "source": [
    "# Tarea "
   ]
  },
  {
   "cell_type": "markdown",
   "metadata": {},
   "source": [
    "Determine el límite cuando $x$ tiende a $-1$ de la función $f(x)= x - x^3 $ usando la función \" limit \""
   ]
  },
  {
   "cell_type": "code",
   "execution_count": null,
   "metadata": {},
   "outputs": [],
   "source": []
  },
  {
   "cell_type": "markdown",
   "metadata": {},
   "source": [
    "# Ejercicio de clase"
   ]
  },
  {
   "cell_type": "markdown",
   "metadata": {},
   "source": [
    "1. Punto teórico: Use las reglas para el cálculo de las derivadas para describir los comportamientos de la siguiente función: determine los intervalos de crecimiento, los puntos extremos, los cambios de concavidad y grafique la función."
   ]
  },
  {
   "cell_type": "markdown",
   "metadata": {},
   "source": [
    "2. Punto en python: Encuentre el valor de la derivada de la función $f(x)= \\frac{3x}{(x^2-1)}$ en el punto $x = 10$."
   ]
  },
  {
   "cell_type": "markdown",
   "metadata": {},
   "source": [
    "3. Graficar la función en python."
   ]
  },
  {
   "cell_type": "markdown",
   "metadata": {},
   "source": [
    "#### Límites cuando x tiende a infinito "
   ]
  },
  {
   "cell_type": "code",
   "execution_count": 21,
   "metadata": {},
   "outputs": [
    {
     "data": {
      "text/latex": [
       "$$\\lim_{x \\to \\infty} \\frac{1}{x}$$"
      ],
      "text/plain": [
       "    1\n",
       "lim ─\n",
       "x─→∞x"
      ]
     },
     "execution_count": 21,
     "metadata": {},
     "output_type": "execute_result"
    }
   ],
   "source": [
    "Limit(1/x, x, S.Infinity)"
   ]
  },
  {
   "cell_type": "code",
   "execution_count": 22,
   "metadata": {},
   "outputs": [
    {
     "data": {
      "text/latex": [
       "$$0$$"
      ],
      "text/plain": [
       "0"
      ]
     },
     "execution_count": 22,
     "metadata": {},
     "output_type": "execute_result"
    }
   ],
   "source": [
    "Limit(1/x, x, S.Infinity).doit()"
   ]
  },
  {
   "cell_type": "code",
   "execution_count": null,
   "metadata": {},
   "outputs": [],
   "source": []
  },
  {
   "cell_type": "markdown",
   "metadata": {},
   "source": [
    "#### Hasta el momento hemos calculado derivadas con la definición usando la librería para el cálculo de límites. Vamos ahora a usar una librería para calculo direco de las derivadas de una funicón."
   ]
  },
  {
   "cell_type": "markdown",
   "metadata": {},
   "source": [
    "En este caso el objeto principal es \" Derivative \" cuya sintaxis es"
   ]
  },
  {
   "cell_type": "markdown",
   "metadata": {},
   "source": [
    "                            Derivative(funcion, variable, orden de derivacion) "
   ]
  },
  {
   "cell_type": "markdown",
   "metadata": {},
   "source": [
    "Ejemplo: Calcular la derivada de la función $f(x)=\\frac{3x}{(x^2-1)}$"
   ]
  },
  {
   "cell_type": "code",
   "execution_count": 24,
   "metadata": {},
   "outputs": [
    {
     "data": {
      "text/latex": [
       "$$- \\frac{6 x^{2}}{\\left(x^{2} - 1\\right)^{2}} + \\frac{3}{x^{2} - 1}$$"
      ],
      "text/plain": [
       "        2           \n",
       "     6⋅x        3   \n",
       "- ───────── + ──────\n",
       "          2    2    \n",
       "  ⎛ 2    ⎞    x  - 1\n",
       "  ⎝x  - 1⎠          "
      ]
     },
     "execution_count": 24,
     "metadata": {},
     "output_type": "execute_result"
    }
   ],
   "source": [
    "from sympy import Derivative, diff, simplify\n",
    "\n",
    "fx = (3*x)/(x**2 - 1)\n",
    "dx = Derivative(fx, x).doit() #la funcion diff da el resultado directo. diff(fx,x)\n",
    "dx"
   ]
  },
  {
   "cell_type": "code",
   "execution_count": 26,
   "metadata": {},
   "outputs": [
    {
     "data": {
      "text/latex": [
       "$$- \\frac{3 x^{2} + 3}{x^{4} - 2 x^{2} + 1}$$"
      ],
      "text/plain": [
       "  ⎛   2    ⎞ \n",
       " -⎝3⋅x  + 3⎠ \n",
       "─────────────\n",
       " 4      2    \n",
       "x  - 2⋅x  + 1"
      ]
     },
     "execution_count": 26,
     "metadata": {},
     "output_type": "execute_result"
    }
   ],
   "source": [
    "# si se quiere simplificar\n",
    "simplify(dx)"
   ]
  },
  {
   "cell_type": "code",
   "execution_count": 27,
   "metadata": {},
   "outputs": [
    {
     "data": {
      "text/latex": [
       "$$\\frac{18 \\left(- \\frac{8 x^{4}}{\\left(x^{2} - 1\\right)^{2}} + \\frac{8 x^{2}}{x^{2} - 1} - 1\\right)}{\\left(x^{2} - 1\\right)^{2}}$$"
      ],
      "text/plain": [
       "   ⎛        4         2     ⎞\n",
       "   ⎜     8⋅x       8⋅x      ⎟\n",
       "18⋅⎜- ───────── + ────── - 1⎟\n",
       "   ⎜          2    2        ⎟\n",
       "   ⎜  ⎛ 2    ⎞    x  - 1    ⎟\n",
       "   ⎝  ⎝x  - 1⎠              ⎠\n",
       "─────────────────────────────\n",
       "                  2          \n",
       "          ⎛ 2    ⎞           \n",
       "          ⎝x  - 1⎠           "
      ]
     },
     "execution_count": 27,
     "metadata": {},
     "output_type": "execute_result"
    }
   ],
   "source": [
    "# si se desea calcular la derivada de orden superior se debe indicar el tercer argumento de Derivative\n",
    "d3x = Derivative(fx, x,3).doit()\n",
    "d3x"
   ]
  },
  {
   "cell_type": "markdown",
   "metadata": {},
   "source": [
    "Esta misma derivada de orden tres se puede calcular de la siguiente manera:"
   ]
  },
  {
   "cell_type": "code",
   "execution_count": 31,
   "metadata": {},
   "outputs": [
    {
     "data": {
      "text/latex": [
       "$$- \\frac{18 x^{4} + 108 x^{2} + 18}{x^{8} - 4 x^{6} + 6 x^{4} - 4 x^{2} + 1}$$"
      ],
      "text/plain": [
       "   ⎛    4        2     ⎞   \n",
       "  -⎝18⋅x  + 108⋅x  + 18⎠   \n",
       "───────────────────────────\n",
       " 8      6      4      2    \n",
       "x  - 4⋅x  + 6⋅x  - 4⋅x  + 1"
      ]
     },
     "execution_count": 31,
     "metadata": {},
     "output_type": "execute_result"
    }
   ],
   "source": [
    "simplify(diff(fx, x,3))"
   ]
  },
  {
   "cell_type": "markdown",
   "metadata": {},
   "source": [
    "# Por último "
   ]
  },
  {
   "cell_type": "markdown",
   "metadata": {},
   "source": [
    "Con el método \" subs \" sustituimos el valor de $x$ para obtener el resultado numérico. Por ejemplo en el ejercicio de seguimiento se pedia calcular la derivada en el punto $x = 10$. La forma de hacerlo usando python es:"
   ]
  },
  {
   "cell_type": "code",
   "execution_count": 35,
   "metadata": {},
   "outputs": [
    {
     "data": {
      "text/latex": [
       "$$- \\frac{101}{3267}$$"
      ],
      "text/plain": [
       "-101 \n",
       "─────\n",
       " 3267"
      ]
     },
     "execution_count": 35,
     "metadata": {},
     "output_type": "execute_result"
    }
   ],
   "source": [
    "diff(fx, x).subs(x, 10)"
   ]
  }
 ],
 "metadata": {
  "kernelspec": {
   "display_name": "Python 3",
   "language": "python",
   "name": "python3"
  },
  "language_info": {
   "codemirror_mode": {
    "name": "ipython",
    "version": 3
   },
   "file_extension": ".py",
   "mimetype": "text/x-python",
   "name": "python",
   "nbconvert_exporter": "python",
   "pygments_lexer": "ipython3",
   "version": "3.7.1"
  }
 },
 "nbformat": 4,
 "nbformat_minor": 2
}
