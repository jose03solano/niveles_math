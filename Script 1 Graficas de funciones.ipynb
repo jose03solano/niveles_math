{
 "cells": [
  {
   "cell_type": "markdown",
   "metadata": {},
   "source": [
    "# Gráficas de funciones en python "
   ]
  },
  {
   "cell_type": "markdown",
   "metadata": {},
   "source": [
    "Para graficar funciones en python primero tener definida la función y se debe construir una tabla de valores de tal manera que lo que se grafican son los pares ordenados $(x, f(x))$"
   ]
  },
  {
   "cell_type": "markdown",
   "metadata": {},
   "source": [
    "Ejemplo: graficar la función $f(x) = \\sqrt{x + 4}$ en el intervalo $[-4, 8]$."
   ]
  },
  {
   "cell_type": "markdown",
   "metadata": {},
   "source": [
    "El código sería algo como este:"
   ]
  },
  {
   "cell_type": "code",
   "execution_count": 35,
   "metadata": {},
   "outputs": [
    {
     "data": {
      "text/plain": [
       "[<matplotlib.lines.Line2D at 0x7e715c0>]"
      ]
     },
     "execution_count": 35,
     "metadata": {},
     "output_type": "execute_result"
    },
    {
     "data": {
      "image/png": "[encoded data removed]",
      "text/plain": [
       "<Figure size 432x288 with 1 Axes>"
      ]
     },
     "metadata": {
      "needs_background": "light"
     },
     "output_type": "display_data"
    }
   ],
   "source": [
    "import numpy as np\n",
    "import matplotlib.pyplot as plt \n",
    "\n",
    "x = np.array([-4, -2, 0, 2, 4, 6, 8])\n",
    "y = np.sqrt(x + 4)\n",
    "plt.plot(x,y)"
   ]
  },
  {
   "cell_type": "markdown",
   "metadata": {},
   "source": [
    "### Explicación del código:"
   ]
  },
  {
   "cell_type": "markdown",
   "metadata": {},
   "source": [
    "En las dos primeras líneas se importan las librerias de python que contienen los métodos para construir vectores y gráficas. En particular: \n",
    "    \n",
    "1. El módulo Numpy https://www.numpy.org :\n",
    "   es una librería de python muy usada para computación científica y álgebra matricial. \n",
    "    \n",
    "2. El módulo Matplotlib https://matplotlib.org :\n",
    "   es una libreria de python muy útil para crear gráficos.  "
   ]
  },
  {
   "cell_type": "markdown",
   "metadata": {},
   "source": [
    "La sentencia  \" np.array \" se usa para crear un vector de números reales. \n",
    "\n",
    "La sentencia  \" np.sqrt \"  indica que se esta usando la función raíz cuadrada.\n",
    "\n",
    "Observe que en ambas sentencias se antepone \"np\" indicando que las funciones se encuentran dentro de la librería Numpy la cual la estamos llamando con el alias np (primera línea del script). "
   ]
  },
  {
   "cell_type": "markdown",
   "metadata": {},
   "source": [
    "### Segundo Ejemplo: "
   ]
  },
  {
   "cell_type": "markdown",
   "metadata": {},
   "source": [
    "graficar la función $f(x) = \\sqrt{x + 3}$ en el intervalo $[-4, 8]$."
   ]
  },
  {
   "cell_type": "markdown",
   "metadata": {},
   "source": [
    "En este segundo ejemplo vamos a usar de nuevo la función raíz cuadrada pero esta vez vamos a construir la función \"f(x)\". La instrucción para construir una funciónen python es \n",
    "\n",
    "\"  def nombre_de_la_funcion :  \"     "
   ]
  },
  {
   "cell_type": "code",
   "execution_count": 36,
   "metadata": {},
   "outputs": [
    {
     "data": {
      "text/plain": [
       "[<matplotlib.lines.Line2D at 0x7ed8358>]"
      ]
     },
     "execution_count": 36,
     "metadata": {},
     "output_type": "execute_result"
    },
    {
     "data": {
      "image/png": "[encoded data removed]",
      "text/plain": [
       "<Figure size 432x288 with 1 Axes>"
      ]
     },
     "metadata": {
      "needs_background": "light"
     },
     "output_type": "display_data"
    }
   ],
   "source": [
    "import numpy \n",
    "import matplotlib.pyplot as plt \n",
    "import math \n",
    "\n",
    "\n",
    "def f(x):\n",
    "    return np.sqrt(x + 4)\n",
    "\n",
    "x = numpy.array([-4, -2, 0, 2, 4, 6, 8])\n",
    "y = f(x)\n",
    "\n",
    "plt.plot(x, y, 'o-')"
   ]
  },
  {
   "cell_type": "code",
   "execution_count": 38,
   "metadata": {},
   "outputs": [
    {
     "data": {
      "text/plain": [
       "array([0.        , 1.41421356, 2.        , 2.44948974, 2.82842712,\n",
       "       3.16227766, 3.46410162])"
      ]
     },
     "execution_count": 38,
     "metadata": {},
     "output_type": "execute_result"
    }
   ],
   "source": [
    "# lista de los valores de y\n",
    "y"
   ]
  },
  {
   "cell_type": "markdown",
   "metadata": {},
   "source": [
    "Si quisiéramos verlo en forma de tabla, podemos ayudarnos de la librería pandas https://pandas.pydata.org .\n",
    "\n",
    "Pandas es una biblioteca que proporciona estructuras de datos y herramientas de análisis de datos para el lenguaje de programación Python.\n",
    "\n",
    "Usaremos la estructura de pandas llamada DataFrame la cual permite ver los datos en una estructura tabular. "
   ]
  },
  {
   "cell_type": "code",
   "execution_count": 39,
   "metadata": {},
   "outputs": [
    {
     "data": {
      "text/html": [
       "<div>\n",
       "<style scoped>\n",
       "    .dataframe tbody tr th:only-of-type {\n",
       "        vertical-align: middle;\n",
       "    }\n",
       "\n",
       "    .dataframe tbody tr th {\n",
       "        vertical-align: top;\n",
       "    }\n",
       "\n",
       "    .dataframe thead th {\n",
       "        text-align: right;\n",
       "    }\n",
       "</style>\n",
       "<table border=\"1\" class=\"dataframe\">\n",
       "  <thead>\n",
       "    <tr style=\"text-align: right;\">\n",
       "      <th></th>\n",
       "      <th>x</th>\n",
       "      <th>f(x)</th>\n",
       "    </tr>\n",
       "  </thead>\n",
       "  <tbody>\n",
       "    <tr>\n",
       "      <th>0</th>\n",
       "      <td>-4</td>\n",
       "      <td>0.000000</td>\n",
       "    </tr>\n",
       "    <tr>\n",
       "      <th>1</th>\n",
       "      <td>-2</td>\n",
       "      <td>1.414214</td>\n",
       "    </tr>\n",
       "    <tr>\n",
       "      <th>2</th>\n",
       "      <td>0</td>\n",
       "      <td>2.000000</td>\n",
       "    </tr>\n",
       "    <tr>\n",
       "      <th>3</th>\n",
       "      <td>2</td>\n",
       "      <td>2.449490</td>\n",
       "    </tr>\n",
       "    <tr>\n",
       "      <th>4</th>\n",
       "      <td>4</td>\n",
       "      <td>2.828427</td>\n",
       "    </tr>\n",
       "    <tr>\n",
       "      <th>5</th>\n",
       "      <td>6</td>\n",
       "      <td>3.162278</td>\n",
       "    </tr>\n",
       "    <tr>\n",
       "      <th>6</th>\n",
       "      <td>8</td>\n",
       "      <td>3.464102</td>\n",
       "    </tr>\n",
       "  </tbody>\n",
       "</table>\n",
       "</div>"
      ],
      "text/plain": [
       "   x      f(x)\n",
       "0 -4  0.000000\n",
       "1 -2  1.414214\n",
       "2  0  2.000000\n",
       "3  2  2.449490\n",
       "4  4  2.828427\n",
       "5  6  3.162278\n",
       "6  8  3.464102"
      ]
     },
     "execution_count": 39,
     "metadata": {},
     "output_type": "execute_result"
    }
   ],
   "source": [
    "import pandas as pd\n",
    "\n",
    "pares_ordenados = pd.DataFrame( list(zip(x, y)), columns=['x', 'f(x)'] )\n",
    "pares_ordenados"
   ]
  },
  {
   "cell_type": "markdown",
   "metadata": {},
   "source": [
    "La función \"zip\" devuelve un objeto zip, que es un iterador de tuplas donde el primer elemento de cada iterador pasado se empareja, y luego el segundo elemento de cada iterador pasado se empareja, etc. \n",
    "La función \"tuple()\" o \"list()\" se usa para mostrar una versión legible del resultado."
   ]
  },
  {
   "cell_type": "markdown",
   "metadata": {},
   "source": [
    "## Por último "
   ]
  },
  {
   "cell_type": "markdown",
   "metadata": {},
   "source": [
    "En la galeria de ejemplos de matplotlib se encuentra numeros ejemplos que pueden mejorar considerablemente la presentación de las gráficas. Una mejora a nuestra gráfica puede ser asi: "
   ]
  },
  {
   "cell_type": "code",
   "execution_count": 57,
   "metadata": {},
   "outputs": [
    {
     "data": {
      "image/png": "[encoded data removed]",
      "text/plain": [
       "<Figure size 432x288 with 1 Axes>"
      ]
     },
     "metadata": {
      "needs_background": "light"
     },
     "output_type": "display_data"
    }
   ],
   "source": [
    "plt.grid()\n",
    "plt.plot(x, y, 'o-')\n",
    "plt.title(r\"Gráfico de $f(x)=\\sqrt{x + 2}$\")\n",
    "plt.ylabel('f(x)')\n",
    "plt.xlabel('x')\n",
    "plt.show()"
   ]
  },
  {
   "cell_type": "markdown",
   "metadata": {},
   "source": [
    "# Tarea "
   ]
  },
  {
   "cell_type": "markdown",
   "metadata": {},
   "source": [
    "Grafique la función "
   ]
  },
  {
   "cell_type": "markdown",
   "metadata": {},
   "source": [
    "$$\n",
    "f(x) = x^2 - x + 2 \n",
    "$$"
   ]
  },
  {
   "cell_type": "markdown",
   "metadata": {},
   "source": [
    "en el intervalo $[-4, 7]$. Tome cuarenta puntos (pares ordenados) de muestra para construir la tabla de valores. Sugerencia use la función \"linspace\"."
   ]
  }
 ],
 "metadata": {
  "kernelspec": {
   "display_name": "Python 3",
   "language": "python",
   "name": "python3"
  },
  "language_info": {
   "codemirror_mode": {
    "name": "ipython",
    "version": 3
   },
   "file_extension": ".py",
   "mimetype": "text/x-python",
   "name": "python",
   "nbconvert_exporter": "python",
   "pygments_lexer": "ipython3",
   "version": "3.7.1"
  }
 },
 "nbformat": 4,
 "nbformat_minor": 2
}
