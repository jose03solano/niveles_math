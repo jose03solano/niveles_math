{
 "cells": [
  {
   "cell_type": "markdown",
   "metadata": {
    "collapsed": false
   },
   "source": [
    "# Intervalos de confianza"
   ]
  },
  {
   "cell_type": "markdown",
   "metadata": {
    "collapsed": false
   },
   "source": [
    "para la media $\\mu$           (parámetro)\n",
    "\n",
    "para proporciones $p$         (parámetro)"
   ]
  },
  {
   "cell_type": "markdown",
   "metadata": {
    "collapsed": false
   },
   "source": [
    "los estimadores puntuales de los parámetros son:"
   ]
  },
  {
   "cell_type": "markdown",
   "metadata": {
    "collapsed": false
   },
   "source": [
    "$$ \n",
    "\\bar{x} = \\frac{1}{n} \\sum_{i=1}^n x_i\n",
    "$$"
   ]
  },
  {
   "cell_type": "markdown",
   "metadata": {
    "collapsed": false
   },
   "source": [
    "$$\n",
    "\\hat{p} = X/n\n",
    "$$"
   ]
  },
  {
   "cell_type": "markdown",
   "metadata": {
    "collapsed": false
   },
   "source": [
    "la desviación estándar de los estimadores es (respectivamente): "
   ]
  },
  {
   "cell_type": "markdown",
   "metadata": {
    "collapsed": false
   },
   "source": [
    "$$\n",
    "\\sigma^2/n\n",
    "$$"
   ]
  },
  {
   "cell_type": "markdown",
   "metadata": {
    "collapsed": false
   },
   "source": [
    "y "
   ]
  },
  {
   "cell_type": "markdown",
   "metadata": {
    "collapsed": false
   },
   "source": [
    "$$\n",
    "\\sqrt{p(1-p)/n}\n",
    "$$"
   ]
  },
  {
   "cell_type": "markdown",
   "metadata": {
    "collapsed": false
   },
   "source": [
    "En la construcción de los intervalos de confianza está involucrado el cálculo de percentiles de la distribución normal estándar. \n",
    "\n",
    "Repasemos este procedimiento:"
   ]
  },
  {
   "cell_type": "markdown",
   "metadata": {
    "collapsed": false
   },
   "source": [
    "## Cálculo de percentiles "
   ]
  },
  {
   "cell_type": "markdown",
   "metadata": {
    "collapsed": false
   },
   "source": [
    "Calculemos la CDF de un número de puntos dados"
   ]
  },
  {
   "cell_type": "code",
   "execution_count": 4,
   "metadata": {
    "collapsed": false
   },
   "outputs": [
    {
     "name": "stdout",
     "output_type": "stream",
     "text": [
      "[0.84 0.16 0.5  0.84 1.   1.   0.02 1.  ]\n"
     ]
    }
   ],
   "source": [
    "from scipy.stats import norm\n",
    "import numpy as np\n",
    "print (norm.cdf(np.array([1,-1., 0, 1, 3, 4, -2, 6])).round(2))"
   ]
  },
  {
   "cell_type": "markdown",
   "metadata": {
    "collapsed": false
   },
   "source": [
    "Calculemos la mediana :"
   ]
  },
  {
   "cell_type": "markdown",
   "metadata": {
    "collapsed": false
   },
   "source": [
    "para encontrar la mediana de una distribución, se puede usar la función PPF (Percent Point Function), \n",
    "la cual es la inversa de la CDF. En nuestro caso de ejemplo quedaría así: "
   ]
  },
  {
   "cell_type": "code",
   "execution_count": 10,
   "metadata": {
    "collapsed": false
   },
   "outputs": [
    {
     "data": {
      "text/plain": [
       "0.0"
      ]
     },
     "execution_count": 10,
     "metadata": {
     },
     "output_type": "execute_result"
    }
   ],
   "source": [
    "norm.ppf(0.5)"
   ]
  },
  {
   "cell_type": "code",
   "execution_count": 0,
   "metadata": {
    "collapsed": false
   },
   "outputs": [
   ],
   "source": [
   ]
  },
  {
   "cell_type": "markdown",
   "metadata": {
    "collapsed": false
   },
   "source": [
    "# Intervalos de confianza"
   ]
  },
  {
   "cell_type": "markdown",
   "metadata": {
    "collapsed": false
   },
   "source": [
    "primero ae define lo que es un estimador insesgado"
   ]
  },
  {
   "cell_type": "markdown",
   "metadata": {
    "collapsed": false
   },
   "source": [
    "Si $\\hat{\\theta}$ es un estimador insesgado del parámetro $\\theta$, entonces $\\hat{\\theta}$ es un estimador insesgado de $theta$ si\n",
    "$E[\\hat{\\theta}] = \\theta$. \n",
    "\n",
    "Si $E[\\hat{\\theta}] \\neq \\theta$, se dice que $\\hat{\\theta}$ está sesgado.  "
   ]
  },
  {
   "cell_type": "markdown",
   "metadata": {
    "collapsed": false
   },
   "source": [
    "#### El sesgo"
   ]
  },
  {
   "cell_type": "markdown",
   "metadata": {
    "collapsed": false
   },
   "source": [
    "de un estimador puntual $\\hat{\\theta}$ está dado por \n",
    "$$\n",
    "B(\\hat{\\theta}) = E[\\hat{\\theta}] - \\theta\n",
    "$$"
   ]
  },
  {
   "cell_type": "markdown",
   "metadata": {
    "collapsed": false
   },
   "source": [
    "#### El error cuadrático medio "
   ]
  },
  {
   "cell_type": "markdown",
   "metadata": {
    "collapsed": false
   },
   "source": [
    "de un estimador puntual $\\hat{\\theta}$ es "
   ]
  },
  {
   "cell_type": "markdown",
   "metadata": {
    "collapsed": false
   },
   "source": [
    "$$\n",
    "MSE(\\hat{\\theta}) = E[(\\hat{\\theta} - \\theta)^2]\n",
    "$$"
   ]
  },
  {
   "cell_type": "markdown",
   "metadata": {
    "collapsed": false
   },
   "source": [
    "se puede demostrar que "
   ]
  },
  {
   "cell_type": "markdown",
   "metadata": {
    "collapsed": false
   },
   "source": [
    "$$\n",
    "MSE(\\hat{\\theta}) = V(\\hat{\\theta}) +[B(\\hat{\\theta})]^2\n",
    "$$"
   ]
  },
  {
   "cell_type": "markdown",
   "metadata": {
    "collapsed": false
   },
   "source": [
    "# intervalos de confianza en una muestra grande"
   ]
  },
  {
   "cell_type": "markdown",
   "metadata": {
    "collapsed": false
   },
   "source": [
    "El resultado principal para calcular los intervalos de confianza es que si el parámetro que se quiere estimar $\\theta$ es $\\mu$ o $p$ entonces para muestras grandes  "
   ]
  },
  {
   "cell_type": "markdown",
   "metadata": {
    "collapsed": false
   },
   "source": [
    "$$\n",
    "Z = \\frac{\\hat{\\theta}- \\theta}{\\sigma_{\\hat{\\theta}}}\n",
    "$$"
   ]
  },
  {
   "cell_type": "markdown",
   "metadata": {
    "collapsed": false
   },
   "source": [
    "posee aproximadamente una distribución normal estándar."
   ]
  },
  {
   "cell_type": "markdown",
   "metadata": {
    "collapsed": false
   },
   "source": [
    "De esta manera el intervalo de confianza para el parámetro $\\theta$ que posea un coeficiente de confianza igual a $(1-\\alpha)$ es el intervalo "
   ]
  },
  {
   "cell_type": "markdown",
   "metadata": {
    "collapsed": false
   },
   "source": [
    "$$\n",
    "[\\hat{\\theta_L}, \\hat{\\theta_U}]\n",
    "$$"
   ]
  },
  {
   "cell_type": "markdown",
   "metadata": {
    "collapsed": false
   },
   "source": [
    "donde"
   ]
  },
  {
   "cell_type": "markdown",
   "metadata": {
    "collapsed": false
   },
   "source": [
    "$$\n",
    "\\hat{\\theta_L} = \\hat{\\theta} - z_{\\alpha/2} \\; * \\; \\sigma_{\\hat{\\theta}}\n",
    "$$"
   ]
  },
  {
   "cell_type": "markdown",
   "metadata": {
    "collapsed": false
   },
   "source": [
    "$$\n",
    "\\hat{\\theta_U} = \\hat{\\theta} + z_{\\alpha/2} \\; * \\; \\sigma_{\\hat{\\theta}}\n",
    "$$"
   ]
  },
  {
   "cell_type": "markdown",
   "metadata": {
    "collapsed": false
   },
   "source": [
    "Con este intervalo se tiene que  "
   ]
  },
  {
   "cell_type": "markdown",
   "metadata": {
    "collapsed": false
   },
   "source": [
    "$$\n",
    "\\mathbb{P}(\\hat{\\theta_L} < \\theta < \\hat{\\theta_U}) = 1-\\alpha\n",
    "$$"
   ]
  },
  {
   "cell_type": "markdown",
   "metadata": {
    "collapsed": false
   },
   "source": [
    "#### Calentamiento\n",
    "\n",
    "Se registraron los tiempos de compra de $n = 64$ clientes seleccionados al azar en un supermercado\n",
    "local. El promedio y varianza de los $64$ tiempos de compra fueron $33$ minutos y $256$\n",
    "minutos$^2$, respectivamente. Estime $\\mu$, el verdadero promedio de tiempo de compra por cliente,\n",
    "con un coefieciente de confianza de $1 − \\alpha = 0.90$."
   ]
  },
  {
   "cell_type": "markdown",
   "metadata": {
    "collapsed": false
   },
   "source": [
    "El intervalo de confianza\n",
    "\n",
    "$$\n",
    "\\hat{\\theta} \\pm z_{\\alpha/2} \\; * \\; \\sigma_{\\hat{\\theta}}\n",
    "$$"
   ]
  },
  {
   "cell_type": "markdown",
   "metadata": {
    "collapsed": false
   },
   "source": [
    "Aquí $z_{\\alpha/2} = z_{(1-0.90)/2} = z_{0.05} = 1.645$"
   ]
  },
  {
   "cell_type": "code",
   "execution_count": 12,
   "metadata": {
    "collapsed": false
   },
   "outputs": [
    {
     "data": {
      "text/plain": [
       "1.6448536269514722"
      ]
     },
     "execution_count": 12,
     "metadata": {
     },
     "output_type": "execute_result"
    }
   ],
   "source": [
    "#La última igualdad se encuentra con la función ppf: \n",
    "from scipy.stats import norm\n",
    "norm.ppf(0.95) "
   ]
  },
  {
   "cell_type": "markdown",
   "metadata": {
    "collapsed": false
   },
   "source": [
    "De esta manera el intervalo de confianza es $[29.71 , 36.29]$"
   ]
  },
  {
   "cell_type": "code",
   "execution_count": 0,
   "metadata": {
    "collapsed": false
   },
   "outputs": [
   ],
   "source": [
   ]
  },
  {
   "cell_type": "code",
   "execution_count": 20,
   "metadata": {
    "collapsed": false
   },
   "outputs": [
   ],
   "source": [
   ]
  },
  {
   "cell_type": "code",
   "execution_count": 0,
   "metadata": {
    "collapsed": false
   },
   "outputs": [
   ],
   "source": [
    "norm.ppf(0.95)"
   ]
  },
  {
   "cell_type": "code",
   "execution_count": 0,
   "metadata": {
    "collapsed": false
   },
   "outputs": [
   ],
   "source": [
   ]
  },
  {
   "cell_type": "code",
   "execution_count": 0,
   "metadata": {
    "collapsed": false
   },
   "outputs": [
   ],
   "source": [
   ]
  },
  {
   "cell_type": "code",
   "execution_count": 0,
   "metadata": {
    "collapsed": false
   },
   "outputs": [
   ],
   "source": [
   ]
  },
  {
   "cell_type": "code",
   "execution_count": 0,
   "metadata": {
    "collapsed": false
   },
   "outputs": [
   ],
   "source": [
   ]
  },
  {
   "cell_type": "markdown",
   "metadata": {
    "collapsed": false
   },
   "source": [
    "# Pruebas de hipótesis"
   ]
  },
  {
   "cell_type": "markdown",
   "metadata": {
    "collapsed": false
   },
   "source": [
    "# En general "
   ]
  },
  {
   "cell_type": "markdown",
   "metadata": {
    "collapsed": false
   },
   "source": [
    "El estadístico de prueba se calcula de la forma:\n",
    "$$\n",
    "Z = \\frac{\\mbox{estimador para el parámetro - valor del parámetro dado por $H_0$}}{\\mbox{error estándar del estimador}}\n",
    "$$"
   ]
  },
  {
   "cell_type": "markdown",
   "metadata": {
    "collapsed": false
   },
   "source": [
    "# Pruebas de hipótesis de nivel $\\alpha$ para muestras grandes"
   ]
  },
  {
   "cell_type": "markdown",
   "metadata": {
    "collapsed": false
   },
   "source": [
    "$$\n",
    "H_0 : \\theta = \\theta_0\n",
    "$$"
   ]
  },
  {
   "cell_type": "markdown",
   "metadata": {
    "collapsed": false
   },
   "source": [
    "$$\n",
    "H: \\left\\{ \n",
    "  \\begin{array}{lr}\n",
    "  \\theta > \\theta_0 \\;\\;\\;\\mbox{alternativa de cola superior}\\\\\n",
    "  \\theta < \\theta_0 \\;\\;\\;\\mbox{alternativa de cola inferior}\\\\\n",
    "  \\theta \\neq \\theta_0 \\;\\;\\;\\mbox{alternativa de 2 colas}\n",
    "  \\end{array}\\right.\n",
    "$$"
   ]
  },
  {
   "cell_type": "markdown",
   "metadata": {
    "collapsed": false
   },
   "source": [
    "$$\n",
    "\\mbox{Estadístico de prueba   }\\;\\;\\; Z = \\frac{\\hat{\\theta} - \\theta_0}{\\sigma_{\\hat{\\theta}}}\n",
    "$$"
   ]
  },
  {
   "cell_type": "markdown",
   "metadata": {
    "collapsed": false
   },
   "source": [
    "$$\n",
    "\\mbox{Región de rechazo:}: \\left\\{ \n",
    "  \\begin{array}{lr}\n",
    "  \\{Z > z_{\\alpha}\\} \\;\\;\\;\\mbox{RR de cola superior}\\\\\n",
    "  \\{Z < -z_{\\alpha}\\} \\;\\;\\;\\mbox{RR de cola inferior}\\\\\n",
    "  \\{|Z| > z_{\\alpha/2}\\} \\;\\;\\;\\mbox{RR de 2 colas}\n",
    "  \\end{array}\\right.\n",
    "$$"
   ]
  },
  {
   "cell_type": "markdown",
   "metadata": {
    "collapsed": false
   },
   "source": [
    "#### Aplicación 1"
   ]
  },
  {
   "cell_type": "markdown",
   "metadata": {
    "collapsed": false
   },
   "source": [
    "El vicepresidente de ventas de una empresa afirma que los vendedores están promediando\n",
    "no más de 15 contactos de venta por semana. (Le gustaría aumentar esta cantidad.) Como\n",
    "prueba de su afirmación, aleatoriamente se seleccionan n = 36 vendedores y se registra el número\n",
    "de contactos hechos por cada uno para una sola semana seleccionada al azar. La media\n",
    "y varianza de las 36 mediciones fueron 17 y 9, respectivamente. ¿La evidencia contradice lo\n",
    "dicho por el vicepresidente? Use una prueba con nivel $\\alpha = 0.05$."
   ]
  },
  {
   "cell_type": "markdown",
   "metadata": {
    "collapsed": false
   },
   "source": [
    "$$\n",
    "H_0 : \\mu = 15 \\;\\;\\;\\mbox{contra}\\;\\;\\;H_a : \\mu > 15 \n",
    "$$"
   ]
  },
  {
   "cell_type": "markdown",
   "metadata": {
    "collapsed": false
   },
   "source": [
    "$$\n",
    "\\mbox{Estadístico de prueba   }\\;\\;\\; Z = \\frac{\\bar{X} - \\mu_0}{\\sigma_{\\bar{X}}} = \\frac{17 - 15}{3/\\sqrt{36}}= 4\n",
    "$$"
   ]
  },
  {
   "cell_type": "markdown",
   "metadata": {
    "collapsed": false
   },
   "source": [
    "##### Región de rechazo"
   ]
  },
  {
   "cell_type": "code",
   "execution_count": 34,
   "metadata": {
    "collapsed": false
   },
   "outputs": [
    {
     "data": {
      "text/plain": [
       "1.645"
      ]
     },
     "execution_count": 34,
     "metadata": {
     },
     "output_type": "execute_result"
    }
   ],
   "source": [
    "norm.ppf(0.95).round(3)"
   ]
  },
  {
   "cell_type": "markdown",
   "metadata": {
    "collapsed": false
   },
   "source": [
    "Como el valor observado del estadístico de prueba $Z$ se encuentra en la región de rechazo (porque z = 4 excede a $z_{0.05} = 1.645$ se rechaza $H_0: \\mu = 15$.)"
   ]
  },
  {
   "cell_type": "markdown",
   "metadata": {
    "collapsed": false
   },
   "source": [
    "CONCLUSION"
   ]
  },
  {
   "cell_type": "markdown",
   "metadata": {
    "collapsed": false
   },
   "source": [
    "Al nivel de significanciacia $\\alpha = 0.05$, la evidencia es suficiente para indicar que la afirmación\n",
    "del vicepresidente es incorrecta y que el número promedio de contactos de ventas por semana es mayor que 15."
   ]
  },
  {
   "cell_type": "code",
   "execution_count": 0,
   "metadata": {
    "collapsed": false
   },
   "outputs": [
   ],
   "source": [
   ]
  },
  {
   "cell_type": "markdown",
   "metadata": {
    "collapsed": false
   },
   "source": [
    "#### Aplicación 2"
   ]
  },
  {
   "cell_type": "markdown",
   "metadata": {
    "collapsed": false
   },
   "source": [
    "Si la producción diaria de la máquina de una fábrica tiene más de 10% de artículos defectuosos,\n",
    "es necesario repararla. Una muestra aleatoria de 100 piezas de la producción del día\n",
    "contiene 15 piezas defectuosas y el supervisor decide que la máquina debe ser reparada. ¿La\n",
    "evidencia muestral apoya su decisión? Use una prueba con nivel .01."
   ]
  },
  {
   "cell_type": "markdown",
   "metadata": {
    "collapsed": false
   },
   "source": [
    "#### Razonamiento"
   ]
  },
  {
   "cell_type": "markdown",
   "metadata": {
    "collapsed": false
   },
   "source": [
    "Si $Y$ denota el número de piezas defectuosas observado se debe probar la hipótesis nula"
   ]
  },
  {
   "cell_type": "markdown",
   "metadata": {
    "collapsed": false
   },
   "source": [
    "$$\n",
    "H_0 : p = 0.10 \\;\\;\\;\\mbox{contra}\\;\\;\\;H_a : p > 0.10 \n",
    "$$"
   ]
  },
  {
   "cell_type": "markdown",
   "metadata": {
    "collapsed": false
   },
   "source": [
    "$$\n",
    "\\mbox{Estadístico de prueba   }\\;\\;\\; Z = \\frac{\\hat{p} - p_0}{\\sigma_{\\hat{p}}} = \\frac{0.15 - 0.10}{\\sqrt{(0.10)(0.90)/100}}= 1.667\n",
    "$$"
   ]
  },
  {
   "cell_type": "markdown",
   "metadata": {
    "collapsed": false
   },
   "source": [
    "##### Región de rechazo"
   ]
  },
  {
   "cell_type": "code",
   "execution_count": 36,
   "metadata": {
    "collapsed": false
   },
   "outputs": [
    {
     "data": {
      "text/plain": [
       "2.33"
      ]
     },
     "execution_count": 36,
     "metadata": {
     },
     "output_type": "execute_result"
    }
   ],
   "source": [
    "norm.ppf(0.99).round(2)"
   ]
  },
  {
   "cell_type": "markdown",
   "metadata": {
    "collapsed": false
   },
   "source": [
    "Como el valor observado del estadístico de prueba $Z$ no está en la región de rechazo, no se puede rechazar $H_0$."
   ]
  },
  {
   "cell_type": "markdown",
   "metadata": {
    "collapsed": false
   },
   "source": [
    "CONCLUSION"
   ]
  },
  {
   "cell_type": "markdown",
   "metadata": {
    "collapsed": false
   },
   "source": [
    "en el nivel de significancia de $\\alpha = .01$, la evidencia no apoya la decisión del supervisor."
   ]
  },
  {
   "cell_type": "markdown",
   "metadata": {
    "collapsed": false
   },
   "source": [
    "# Valor p"
   ]
  },
  {
   "cell_type": "markdown",
   "metadata": {
    "collapsed": false
   },
   "source": [
    "Si W es un estadístico de prueba, el valor p, o nivel de significancia alcanzado, es el\n",
    "nivel más pequeño de significancia a para el cual la información observada indica que\n",
    "la hipótesis nula debe ser rechazada."
   ]
  },
  {
   "cell_type": "code",
   "execution_count": 42,
   "metadata": {
    "collapsed": false
   },
   "outputs": [
    {
     "name": "stdout",
     "output_type": "stream",
     "text": [
      "Ttest_1sampResult(statistic=array([-0.14980063]), pvalue=array([0.88153682]))\n"
     ]
    }
   ],
   "source": [
    "from scipy import stats\n",
    "rvs = stats.norm.rvs(loc = 5, scale = 10, size = (50,1)) #loc : media         scale: desviacion estandar\n",
    "print (stats.ttest_1samp(rvs,5.0))"
   ]
  },
  {
   "cell_type": "code",
   "execution_count": 43,
   "metadata": {
    "collapsed": false
   },
   "outputs": [
    {
     "data": {
      "text/plain": [
       "-0.151321"
      ]
     },
     "execution_count": 43,
     "metadata": {
     },
     "output_type": "execute_result"
    }
   ],
   "source": [
    "Z_estadistico = (rvs.mean()-5)/(rvs.std()/np.sqrt(50))\n",
    "Z_estadistico.round(6)"
   ]
  },
  {
   "cell_type": "code",
   "execution_count": 34,
   "metadata": {
    "collapsed": false
   },
   "outputs": [
    {
     "data": {
      "text/plain": [
       "5.4250278760507555"
      ]
     },
     "execution_count": 34,
     "metadata": {
     },
     "output_type": "execute_result"
    }
   ],
   "source": [
    "rvs.std()"
   ]
  },
  {
   "cell_type": "code",
   "execution_count": 31,
   "metadata": {
    "collapsed": false
   },
   "outputs": [
    {
     "data": {
      "text/plain": [
       "6.842305053170925"
      ]
     },
     "execution_count": 31,
     "metadata": {
     },
     "output_type": "execute_result"
    }
   ],
   "source": [
    "rvs.mean()"
   ]
  },
  {
   "cell_type": "code",
   "execution_count": 0,
   "metadata": {
    "collapsed": false
   },
   "outputs": [
   ],
   "source": [
   ]
  },
  {
   "cell_type": "code",
   "execution_count": 0,
   "metadata": {
    "collapsed": false
   },
   "outputs": [
   ],
   "source": [
    "pruebas de hipotesis con muestras grandes \n",
    "\n",
    "calcular un valor p"
   ]
  },
  {
   "cell_type": "markdown",
   "metadata": {
    "collapsed": false
   },
   "source": [
    "# Ejercicios tipo "
   ]
  },
  {
   "cell_type": "markdown",
   "metadata": {
    "collapsed": false
   },
   "source": [
    "1. Punto\n",
    "\n",
    "Los administradores de un hospital deseaban estimar el número promedio de días necesarios para el\n",
    "tratamiento de enfermos internados entre las edades de 25 y 34 años. Una muestra aleatoria de 500\n",
    "pacientes entre estas edades produjo una media y una desviación estándar igual a 5.4 y 3.1 días, respectivamente.\n",
    "\n",
    "Construya un intervalo de confi anza del 95% para la duración media de permanencia de la población de\n",
    "pacientes de la cual se extrajo la muestra."
   ]
  },
  {
   "cell_type": "markdown",
   "metadata": {
    "collapsed": false
   },
   "source": [
    "2. Punto\n",
    "\n",
    "A la mayoría de los antioqeños les gusta participar eventos deportivos o al menos verlos. Algunos\n",
    "sienten que los deportes tienen más que sólo valor de entretenimiento. En una encuesta de 1000 adultos, \n",
    "78% sintieron que los deportes de gran atractivo tienen un efecto positivo en la sociedad.\n",
    "\n",
    "Encuentre un intervalo de confianza de 95% para el porcentaje del público que piensa que los deportes\n",
    "tienen un efecto positivo en la sociedad."
   ]
  },
  {
   "cell_type": "markdown",
   "metadata": {
    "collapsed": false
   },
   "source": [
    "3. Punto \n",
    "\n",
    "La reacción de un individuo a un estímulo en un experimento psicológico puede tomar una de\n",
    "dos formas, A o B. Si un experimentador desea estimar la probabilidad p de que una persona\n",
    "reaccione en una forma A, ¿cuántas personas deben incluirse en el experimento? Suponga que\n",
    "el experimentador estará satisfecho si el error de estimación es menor que .04 con probabilidad\n",
    "igual a .90. Suponga también que él espera que p se encuentre en algún punto cercano a .6.\n",
    "\n",
    "Respuesta: 406"
   ]
  },
  {
   "cell_type": "markdown",
   "metadata": {
    "collapsed": false
   },
   "source": [
    "4. Punto \n",
    "\n",
    "Los salarios por hora en una industria particular están distribuidos normalmente con media de $\\$13.20$\n",
    "y desviación estándar de \\$2.50. Una compañía en esta industria emplea 40 trabajadores, pagándoles un\n",
    "promedio de \\$12.20 por hora. ¿Esta compañía puede ser acusada de pagar salarios abajo del estándar?\n",
    "Use una prueba de nivel $\\alpha = .01$."
   ]
  },
  {
   "cell_type": "markdown",
   "metadata": {
    "collapsed": false
   },
   "source": [
    "5. punto \n",
    "\n",
    "Un estudio hecho por el Children’s Hospital en Boston indica que alrededor de 67% de adultos estadounidenses\n",
    "y el 15% de niños y adolescentes tienen sobrepeso. Trece niños de una muestra aleatoria de\n",
    "100 se hallaron con sobrepeso. ¿Hay suficiente evidencia para indicar que el porcentaje publicado por el\n",
    "Children’s Hospital es demasiado alto? Pruebe con un nivel de significancia de $\\alpha$ = 0.05."
   ]
  },
  {
   "cell_type": "code",
   "execution_count": 0,
   "metadata": {
    "collapsed": false
   },
   "outputs": [
   ],
   "source": [
   ]
  }
 ],
 "metadata": {
  "kernelspec": {
   "display_name": "Python 3 (system-wide)",
   "language": "python",
   "metadata": {
    "cocalc": {
     "description": "Python 3 programming language",
     "priority": 100,
     "url": "https://www.python.org/"
    }
   },
   "name": "python3"
  },
  "language_info": {
   "codemirror_mode": {
    "name": "ipython",
    "version": 3
   },
   "file_extension": ".py",
   "mimetype": "text/x-python",
   "name": "python",
   "nbconvert_exporter": "python",
   "pygments_lexer": "ipython3",
   "version": "3.6.8"
  }
 },
 "nbformat": 4,
 "nbformat_minor": 0
}