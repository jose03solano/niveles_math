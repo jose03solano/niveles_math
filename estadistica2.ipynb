{
 "cells": [
  {
   "cell_type": "markdown",
   "metadata": {
    "collapsed": false
   },
   "source": [
    "# Intervalos de confianza"
   ]
  },
  {
   "cell_type": "markdown",
   "metadata": {
    "collapsed": false
   },
   "source": [
    "para la media $\\mu$           (parámetro)\n",
    "\n",
    "para proporciones $p$         (parámetro)"
   ]
  },
  {
   "cell_type": "markdown",
   "metadata": {
    "collapsed": false
   },
   "source": [
    "los estimadores puntuales de los parámetros son:"
   ]
  },
  {
   "cell_type": "markdown",
   "metadata": {
    "collapsed": false
   },
   "source": [
    "$$ \n",
    "\\bar{x} = \\frac{1}{n} \\sum_{i=1}^n x_i\n",
    "$$"
   ]
  },
  {
   "cell_type": "markdown",
   "metadata": {
    "collapsed": false
   },
   "source": [
    "$$\n",
    "\\hat{p} = X/n\n",
    "$$"
   ]
  },
  {
   "cell_type": "markdown",
   "metadata": {
    "collapsed": false
   },
   "source": [
    "la desviación estándar de los estimadores es (respectivamente): "
   ]
  },
  {
   "cell_type": "markdown",
   "metadata": {
    "collapsed": false
   },
   "source": [
    "$$\n",
    "\\sigma^2/n\n",
    "$$"
   ]
  },
  {
   "cell_type": "markdown",
   "metadata": {
    "collapsed": false
   },
   "source": [
    "y "
   ]
  },
  {
   "cell_type": "markdown",
   "metadata": {
    "collapsed": false
   },
   "source": [
    "$$\n",
    "\\sqrt{p(1-p)/n}\n",
    "$$"
   ]
  },
  {
   "cell_type": "markdown",
   "metadata": {
    "collapsed": false
   },
   "source": [
    "En la construcción de los intervalos de confianza está involucrado el cálculo de percentiles de la distribución normal estándar. \n",
    "\n",
    "Repasemos este procedimiento:"
   ]
  },
  {
   "cell_type": "markdown",
   "metadata": {
    "collapsed": false
   },
   "source": [
    "## Cálculo de percentiles "
   ]
  },
  {
   "cell_type": "markdown",
   "metadata": {
    "collapsed": false
   },
   "source": [
    "Calculemos la CDF de un número de puntos dados"
   ]
  },
  {
   "cell_type": "code",
   "execution_count": 45,
   "metadata": {
    "collapsed": false
   },
   "outputs": [
    {
     "name": "stdout",
     "output_type": "stream",
     "text": [
      "[0.84 0.16 0.5  0.84 1.   1.   0.02 1.  ]\n"
     ]
    }
   ],
   "source": [
    "from scipy.stats import norm\n",
    "import numpy as np\n",
    "print (norm.cdf(np.array([1,-1., 0, 1, 3, 4, -2, 6])).round(2))"
   ]
  },
  {
   "cell_type": "markdown",
   "metadata": {
    "collapsed": false
   },
   "source": [
    "Calculemos la mediana :"
   ]
  },
  {
   "cell_type": "markdown",
   "metadata": {
    "collapsed": false
   },
   "source": [
    "para encontrar la mediana de una distribución, se puede usar la función PPF (Percent Point Function), \n",
    "la cual es la inversa de la CDF. En nuestro caso de ejemplo quedaría así: "
   ]
  },
  {
   "cell_type": "code",
   "execution_count": 46,
   "metadata": {
    "collapsed": false
   },
   "outputs": [
    {
     "data": {
      "text/plain": [
       "0.0"
      ]
     },
     "execution_count": 46,
     "metadata": {
     },
     "output_type": "execute_result"
    }
   ],
   "source": [
    "norm.ppf(0.5)"
   ]
  },
  {
   "cell_type": "code",
   "execution_count": 0,
   "metadata": {
    "collapsed": false
   },
   "outputs": [
   ],
   "source": [
   ]
  },
  {
   "cell_type": "markdown",
   "metadata": {
    "collapsed": false
   },
   "source": [
    "# Intervalos de confianza"
   ]
  },
  {
   "cell_type": "markdown",
   "metadata": {
    "collapsed": false
   },
   "source": [
    "primero ae define lo que es un estimador insesgado"
   ]
  },
  {
   "cell_type": "markdown",
   "metadata": {
    "collapsed": false
   },
   "source": [
    "Si $\\hat{\\theta}$ es un estimador insesgado del parámetro $\\theta$, entonces $\\hat{\\theta}$ es un estimador insesgado de $theta$ si\n",
    "$E[\\hat{\\theta}] = \\theta$. \n",
    "\n",
    "Si $E[\\hat{\\theta}] \\neq \\theta$, se dice que $\\hat{\\theta}$ está sesgado.  "
   ]
  },
  {
   "cell_type": "markdown",
   "metadata": {
    "collapsed": false
   },
   "source": [
    "#### El sesgo"
   ]
  },
  {
   "cell_type": "markdown",
   "metadata": {
    "collapsed": false
   },
   "source": [
    "de un estimador puntual $\\hat{\\theta}$ está dado por \n",
    "$$\n",
    "B(\\hat{\\theta}) = E[\\hat{\\theta}] - \\theta\n",
    "$$"
   ]
  },
  {
   "cell_type": "markdown",
   "metadata": {
    "collapsed": false
   },
   "source": [
    "#### El error cuadrático medio "
   ]
  },
  {
   "cell_type": "markdown",
   "metadata": {
    "collapsed": false
   },
   "source": [
    "de un estimador puntual $\\hat{\\theta}$ es "
   ]
  },
  {
   "cell_type": "markdown",
   "metadata": {
    "collapsed": false
   },
   "source": [
    "$$\n",
    "MSE(\\hat{\\theta}) = E[(\\hat{\\theta} - \\theta)^2]\n",
    "$$"
   ]
  },
  {
   "cell_type": "markdown",
   "metadata": {
    "collapsed": false
   },
   "source": [
    "se puede demostrar que "
   ]
  },
  {
   "cell_type": "markdown",
   "metadata": {
    "collapsed": false
   },
   "source": [
    "$$\n",
    "MSE(\\hat{\\theta}) = V(\\hat{\\theta}) +[B(\\hat{\\theta})]^2\n",
    "$$"
   ]
  },
  {
   "cell_type": "markdown",
   "metadata": {
    "collapsed": false
   },
   "source": [
    "# intervalos de confianza en una muestra grande"
   ]
  },
  {
   "cell_type": "markdown",
   "metadata": {
    "collapsed": false
   },
   "source": [
    "El resultado principal para calcular los intervalos de confianza es que si el parámetro que se quiere estimar $\\theta$ es $\\mu$ o $p$ entonces para muestras grandes  "
   ]
  },
  {
   "cell_type": "markdown",
   "metadata": {
    "collapsed": false
   },
   "source": [
    "$$\n",
    "Z = \\frac{\\hat{\\theta}- \\theta}{\\sigma_{\\hat{\\theta}}}\n",
    "$$"
   ]
  },
  {
   "cell_type": "markdown",
   "metadata": {
    "collapsed": false
   },
   "source": [
    "posee aproximadamente una distribución normal estándar."
   ]
  },
  {
   "cell_type": "markdown",
   "metadata": {
    "collapsed": false
   },
   "source": [
    "De esta manera el intervalo de confianza para el parámetro $\\theta$ que posea un coeficiente de confianza igual a $(1-\\alpha)$ es el intervalo "
   ]
  },
  {
   "cell_type": "markdown",
   "metadata": {
    "collapsed": false
   },
   "source": [
    "$$\n",
    "[\\hat{\\theta_L}, \\hat{\\theta_U}]\n",
    "$$"
   ]
  },
  {
   "cell_type": "markdown",
   "metadata": {
    "collapsed": false
   },
   "source": [
    "donde"
   ]
  },
  {
   "cell_type": "markdown",
   "metadata": {
    "collapsed": false
   },
   "source": [
    "$$\n",
    "\\hat{\\theta_L} = \\hat{\\theta} - z_{\\alpha/2} \\; * \\; \\sigma_{\\hat{\\theta}}\n",
    "$$"
   ]
  },
  {
   "cell_type": "markdown",
   "metadata": {
    "collapsed": false
   },
   "source": [
    "$$\n",
    "\\hat{\\theta_U} = \\hat{\\theta} + z_{\\alpha/2} \\; * \\; \\sigma_{\\hat{\\theta}}\n",
    "$$"
   ]
  },
  {
   "cell_type": "markdown",
   "metadata": {
    "collapsed": false
   },
   "source": [
    "Con este intervalo se tiene que  "
   ]
  },
  {
   "cell_type": "markdown",
   "metadata": {
    "collapsed": false
   },
   "source": [
    "$$\n",
    "\\mathbb{P}(\\hat{\\theta_L} < \\theta < \\hat{\\theta_U}) = 1-\\alpha\n",
    "$$"
   ]
  },
  {
   "cell_type": "markdown",
   "metadata": {
    "collapsed": false
   },
   "source": [
    "#### Calentamiento\n",
    "\n",
    "Se registraron los tiempos de compra de $n = 64$ clientes seleccionados al azar en un supermercado\n",
    "local. El promedio y varianza de los $64$ tiempos de compra fueron $33$ minutos y $256$\n",
    "minutos$^2$, respectivamente. Estime $\\mu$, el verdadero promedio de tiempo de compra por cliente,\n",
    "con un coefieciente de confianza de $1 − \\alpha = 0.90$."
   ]
  },
  {
   "cell_type": "markdown",
   "metadata": {
    "collapsed": false
   },
   "source": [
    "El intervalo de confianza\n",
    "\n",
    "$$\n",
    "\\hat{\\theta} \\pm z_{\\alpha/2} \\; * \\; \\sigma_{\\hat{\\theta}}\n",
    "$$"
   ]
  },
  {
   "cell_type": "markdown",
   "metadata": {
    "collapsed": false
   },
   "source": [
    "Aquí $z_{\\alpha/2} = z_{(1-0.90)/2} = z_{0.05} = 1.645$"
   ]
  },
  {
   "cell_type": "code",
   "execution_count": 49,
   "metadata": {
    "collapsed": false
   },
   "outputs": [
    {
     "data": {
      "text/plain": [
       "2.5758293035489004"
      ]
     },
     "execution_count": 49,
     "metadata": {
     },
     "output_type": "execute_result"
    }
   ],
   "source": [
    "#La última igualdad se encuentra con la función ppf: \n",
    "from scipy.stats import norm\n",
    "norm.ppf(0.995) "
   ]
  },
  {
   "cell_type": "code",
   "execution_count": 50,
   "metadata": {
    "collapsed": false
   },
   "outputs": [
    {
     "data": {
      "text/plain": [
       "6.634896601021214"
      ]
     },
     "execution_count": 50,
     "metadata": {
     },
     "output_type": "execute_result"
    }
   ],
   "source": [
    "2.5758293035489004**2"
   ]
  },
  {
   "cell_type": "markdown",
   "metadata": {
    "collapsed": false
   },
   "source": [
    "De esta manera el intervalo de confianza es $[29.71 , 36.29]$"
   ]
  },
  {
   "cell_type": "code",
   "execution_count": 0,
   "metadata": {
    "collapsed": false
   },
   "outputs": [
   ],
   "source": [
   ]
  },
  {
   "cell_type": "code",
   "execution_count": 20,
   "metadata": {
    "collapsed": false
   },
   "outputs": [
   ],
   "source": [
   ]
  },
  {
   "cell_type": "code",
   "execution_count": 0,
   "metadata": {
    "collapsed": false
   },
   "outputs": [
   ],
   "source": [
    "norm.ppf(0.95)"
   ]
  },
  {
   "cell_type": "code",
   "execution_count": 0,
   "metadata": {
    "collapsed": false
   },
   "outputs": [
   ],
   "source": [
   ]
  },
  {
   "cell_type": "code",
   "execution_count": 0,
   "metadata": {
    "collapsed": false
   },
   "outputs": [
   ],
   "source": [
   ]
  },
  {
   "cell_type": "code",
   "execution_count": 0,
   "metadata": {
    "collapsed": false
   },
   "outputs": [
   ],
   "source": [
   ]
  },
  {
   "cell_type": "code",
   "execution_count": 0,
   "metadata": {
    "collapsed": false
   },
   "outputs": [
   ],
   "source": [
   ]
  },
  {
   "cell_type": "markdown",
   "metadata": {
    "collapsed": false
   },
   "source": [
    "# Pruebas de hipótesis"
   ]
  },
  {
   "cell_type": "markdown",
   "metadata": {
    "collapsed": false
   },
   "source": [
    "# En general "
   ]
  },
  {
   "cell_type": "markdown",
   "metadata": {
    "collapsed": false
   },
   "source": [
    "El estadístico de prueba se calcula de la forma:\n",
    "$$\n",
    "Z = \\frac{\\mbox{estimador para el parámetro - valor del parámetro dado por $H_0$}}{\\mbox{error estándar del estimador}}\n",
    "$$"
   ]
  },
  {
   "cell_type": "markdown",
   "metadata": {
    "collapsed": false
   },
   "source": [
    "# Pruebas de hipótesis de nivel $\\alpha$ para muestras grandes"
   ]
  },
  {
   "cell_type": "markdown",
   "metadata": {
    "collapsed": false
   },
   "source": [
    "$$\n",
    "H_0 : \\theta = \\theta_0\n",
    "$$"
   ]
  },
  {
   "cell_type": "markdown",
   "metadata": {
    "collapsed": false
   },
   "source": [
    "$$\n",
    "H: \\left\\{ \n",
    "  \\begin{array}{lr}\n",
    "  \\theta > \\theta_0 \\;\\;\\;\\mbox{alternativa de cola superior}\\\\\n",
    "  \\theta < \\theta_0 \\;\\;\\;\\mbox{alternativa de cola inferior}\\\\\n",
    "  \\theta \\neq \\theta_0 \\;\\;\\;\\mbox{alternativa de 2 colas}\n",
    "  \\end{array}\\right.\n",
    "$$"
   ]
  },
  {
   "cell_type": "markdown",
   "metadata": {
    "collapsed": false
   },
   "source": [
    "$$\n",
    "\\mbox{Estadístico de prueba   }\\;\\;\\; Z = \\frac{\\hat{\\theta} - \\theta_0}{\\sigma_{\\hat{\\theta}}}\n",
    "$$"
   ]
  },
  {
   "cell_type": "markdown",
   "metadata": {
    "collapsed": false
   },
   "source": [
    "$$\n",
    "\\mbox{Región de rechazo:}: \\left\\{ \n",
    "  \\begin{array}{lr}\n",
    "  \\{Z > z_{\\alpha}\\} \\;\\;\\;\\mbox{RR de cola superior}\\\\\n",
    "  \\{Z < -z_{\\alpha}\\} \\;\\;\\;\\mbox{RR de cola inferior}\\\\\n",
    "  \\{|Z| > z_{\\alpha/2}\\} \\;\\;\\;\\mbox{RR de 2 colas}\n",
    "  \\end{array}\\right.\n",
    "$$"
   ]
  },
  {
   "cell_type": "markdown",
   "metadata": {
    "collapsed": false
   },
   "source": [
    "#### Aplicación 1"
   ]
  },
  {
   "cell_type": "markdown",
   "metadata": {
    "collapsed": false
   },
   "source": [
    "El vicepresidente de ventas de una empresa afirma que los vendedores están promediando\n",
    "no más de 15 contactos de venta por semana. (Le gustaría aumentar esta cantidad.) Como\n",
    "prueba de su afirmación, aleatoriamente se seleccionan n = 36 vendedores y se registra el número\n",
    "de contactos hechos por cada uno para una sola semana seleccionada al azar. La media\n",
    "y varianza de las 36 mediciones fueron 17 y 9, respectivamente. ¿La evidencia contradice lo\n",
    "dicho por el vicepresidente? Use una prueba con nivel $\\alpha = 0.05$."
   ]
  },
  {
   "cell_type": "markdown",
   "metadata": {
    "collapsed": false
   },
   "source": [
    "$$\n",
    "H_0 : \\mu = 15 \\;\\;\\;\\mbox{contra}\\;\\;\\;H_a : \\mu > 15 \n",
    "$$"
   ]
  },
  {
   "cell_type": "markdown",
   "metadata": {
    "collapsed": false
   },
   "source": [
    "$$\n",
    "\\mbox{Estadístico de prueba   }\\;\\;\\; Z = \\frac{\\bar{X} - \\mu_0}{\\sigma_{\\bar{X}}} = \\frac{17 - 15}{3/\\sqrt{36}}= 4\n",
    "$$"
   ]
  },
  {
   "cell_type": "markdown",
   "metadata": {
    "collapsed": false
   },
   "source": [
    "##### Región de rechazo"
   ]
  },
  {
   "cell_type": "code",
   "execution_count": 34,
   "metadata": {
    "collapsed": false
   },
   "outputs": [
    {
     "data": {
      "text/plain": [
       "1.645"
      ]
     },
     "execution_count": 34,
     "metadata": {
     },
     "output_type": "execute_result"
    }
   ],
   "source": [
    "norm.ppf(0.95).round(3)"
   ]
  },
  {
   "cell_type": "markdown",
   "metadata": {
    "collapsed": false
   },
   "source": [
    "Como el valor observado del estadístico de prueba $Z$ se encuentra en la región de rechazo (porque z = 4 excede a $z_{0.05} = 1.645$ se rechaza $H_0: \\mu = 15$.)"
   ]
  },
  {
   "cell_type": "markdown",
   "metadata": {
    "collapsed": false
   },
   "source": [
    "CONCLUSION"
   ]
  },
  {
   "cell_type": "markdown",
   "metadata": {
    "collapsed": false
   },
   "source": [
    "Al nivel de significanciacia $\\alpha = 0.05$, la evidencia es suficiente para indicar que la afirmación\n",
    "del vicepresidente es incorrecta y que el número promedio de contactos de ventas por semana es mayor que 15."
   ]
  },
  {
   "cell_type": "code",
   "execution_count": 0,
   "metadata": {
    "collapsed": false
   },
   "outputs": [
   ],
   "source": [
   ]
  },
  {
   "cell_type": "markdown",
   "metadata": {
    "collapsed": false
   },
   "source": [
    "#### Aplicación 2"
   ]
  },
  {
   "cell_type": "markdown",
   "metadata": {
    "collapsed": false
   },
   "source": [
    "Si la producción diaria de la máquina de una fábrica tiene más de 10% de artículos defectuosos,\n",
    "es necesario repararla. Una muestra aleatoria de 100 piezas de la producción del día\n",
    "contiene 15 piezas defectuosas y el supervisor decide que la máquina debe ser reparada. ¿La\n",
    "evidencia muestral apoya su decisión? Use una prueba con nivel .01."
   ]
  },
  {
   "cell_type": "markdown",
   "metadata": {
    "collapsed": false
   },
   "source": [
    "#### Razonamiento"
   ]
  },
  {
   "cell_type": "markdown",
   "metadata": {
    "collapsed": false
   },
   "source": [
    "Si $Y$ denota el número de piezas defectuosas observado se debe probar la hipótesis nula"
   ]
  },
  {
   "cell_type": "markdown",
   "metadata": {
    "collapsed": false
   },
   "source": [
    "$$\n",
    "H_0 : p = 0.10 \\;\\;\\;\\mbox{contra}\\;\\;\\;H_a : p > 0.10 \n",
    "$$"
   ]
  },
  {
   "cell_type": "markdown",
   "metadata": {
    "collapsed": false
   },
   "source": [
    "$$\n",
    "\\mbox{Estadístico de prueba   }\\;\\;\\; Z = \\frac{\\hat{p} - p_0}{\\sigma_{\\hat{p}}} = \\frac{0.15 - 0.10}{\\sqrt{(0.10)(0.90)/100}}= 1.667\n",
    "$$"
   ]
  },
  {
   "cell_type": "markdown",
   "metadata": {
    "collapsed": false
   },
   "source": [
    "##### Región de rechazo"
   ]
  },
  {
   "cell_type": "code",
   "execution_count": 36,
   "metadata": {
    "collapsed": false
   },
   "outputs": [
    {
     "data": {
      "text/plain": [
       "2.33"
      ]
     },
     "execution_count": 36,
     "metadata": {
     },
     "output_type": "execute_result"
    }
   ],
   "source": [
    "norm.ppf(0.99).round(2)"
   ]
  },
  {
   "cell_type": "markdown",
   "metadata": {
    "collapsed": false
   },
   "source": [
    "Como el valor observado del estadístico de prueba $Z$ no está en la región de rechazo, no se puede rechazar $H_0$."
   ]
  },
  {
   "cell_type": "markdown",
   "metadata": {
    "collapsed": false
   },
   "source": [
    "CONCLUSION"
   ]
  },
  {
   "cell_type": "markdown",
   "metadata": {
    "collapsed": false
   },
   "source": [
    "en el nivel de significancia de $\\alpha = .01$, la evidencia no apoya la decisión del supervisor."
   ]
  },
  {
   "cell_type": "markdown",
   "metadata": {
    "collapsed": false
   },
   "source": [
    "# Valor p"
   ]
  },
  {
   "cell_type": "markdown",
   "metadata": {
    "collapsed": false
   },
   "source": [
    "Si W es un estadístico de prueba, el valor p, o nivel de significancia alcanzado, es el\n",
    "nivel más pequeño de significancia a para el cual la información observada indica que\n",
    "la hipótesis nula debe ser rechazada."
   ]
  },
  {
   "cell_type": "code",
   "execution_count": 42,
   "metadata": {
    "collapsed": false
   },
   "outputs": [
    {
     "name": "stdout",
     "output_type": "stream",
     "text": [
      "Ttest_1sampResult(statistic=array([-0.14980063]), pvalue=array([0.88153682]))\n"
     ]
    }
   ],
   "source": [
    "from scipy import stats\n",
    "rvs = stats.norm.rvs(loc = 5, scale = 10, size = (50,1)) #loc : media         scale: desviacion estandar\n",
    "print (stats.ttest_1samp(rvs,5.0))"
   ]
  },
  {
   "cell_type": "code",
   "execution_count": 43,
   "metadata": {
    "collapsed": false
   },
   "outputs": [
    {
     "data": {
      "text/plain": [
       "-0.151321"
      ]
     },
     "execution_count": 43,
     "metadata": {
     },
     "output_type": "execute_result"
    }
   ],
   "source": [
    "Z_estadistico = (rvs.mean()-5)/(rvs.std()/np.sqrt(50))\n",
    "Z_estadistico.round(6)"
   ]
  },
  {
   "cell_type": "code",
   "execution_count": 34,
   "metadata": {
    "collapsed": false
   },
   "outputs": [
    {
     "data": {
      "text/plain": [
       "5.4250278760507555"
      ]
     },
     "execution_count": 34,
     "metadata": {
     },
     "output_type": "execute_result"
    }
   ],
   "source": [
    "rvs.std()"
   ]
  },
  {
   "cell_type": "code",
   "execution_count": 31,
   "metadata": {
    "collapsed": false
   },
   "outputs": [
    {
     "data": {
      "text/plain": [
       "6.842305053170925"
      ]
     },
     "execution_count": 31,
     "metadata": {
     },
     "output_type": "execute_result"
    }
   ],
   "source": [
    "rvs.mean()"
   ]
  },
  {
   "cell_type": "code",
   "execution_count": 0,
   "metadata": {
    "collapsed": false
   },
   "outputs": [
   ],
   "source": [
   ]
  },
  {
   "cell_type": "code",
   "execution_count": 0,
   "metadata": {
    "collapsed": false
   },
   "outputs": [
   ],
   "source": [
    "pruebas de hipotesis con muestras grandes \n",
    "\n",
    "calcular un valor p"
   ]
  },
  {
   "cell_type": "markdown",
   "metadata": {
    "collapsed": false
   },
   "source": [
    "# Ejercicios tipo "
   ]
  },
  {
   "cell_type": "markdown",
   "metadata": {
    "collapsed": false
   },
   "source": [
    "1. Punto\n",
    "\n",
    "Los administradores de un hospital deseaban estimar el número promedio de días necesarios para el\n",
    "tratamiento de enfermos internados entre las edades de 25 y 34 años. Una muestra aleatoria de 500\n",
    "pacientes entre estas edades produjo una media y una desviación estándar igual a 5.4 y 3.1 días, respectivamente.\n",
    "\n",
    "Construya un intervalo de confi anza del 95% para la duración media de permanencia de la población de\n",
    "pacientes de la cual se extrajo la muestra."
   ]
  },
  {
   "cell_type": "markdown",
   "metadata": {
    "collapsed": false
   },
   "source": [
    "2. Punto\n",
    "\n",
    "A la mayoría de los antioqeños les gusta participar eventos deportivos o al menos verlos. Algunos\n",
    "sienten que los deportes tienen más que sólo valor de entretenimiento. En una encuesta de 1000 adultos, \n",
    "78% sintieron que los deportes de gran atractivo tienen un efecto positivo en la sociedad.\n",
    "\n",
    "Encuentre un intervalo de confianza de 95% para el porcentaje del público que piensa que los deportes\n",
    "tienen un efecto positivo en la sociedad."
   ]
  },
  {
   "cell_type": "markdown",
   "metadata": {
    "collapsed": false
   },
   "source": [
    "3. Punto \n",
    "\n",
    "La reacción de un individuo a un estímulo en un experimento psicológico puede tomar una de\n",
    "dos formas, A o B. Si un experimentador desea estimar la probabilidad p de que una persona\n",
    "reaccione en una forma A, ¿cuántas personas deben incluirse en el experimento? Suponga que\n",
    "el experimentador estará satisfecho si el error de estimación es menor que .04 con probabilidad\n",
    "igual a .90. Suponga también que él espera que p se encuentre en algún punto cercano a .6.\n",
    "\n",
    "Respuesta: 406"
   ]
  },
  {
   "cell_type": "markdown",
   "metadata": {
    "collapsed": false
   },
   "source": [
    "4. Punto \n",
    "\n",
    "Los salarios por hora en una industria particular están distribuidos normalmente con media de $\\$13.20$\n",
    "y desviación estándar de \\$2.50. Una compañía en esta industria emplea 40 trabajadores, pagándoles un\n",
    "promedio de \\$12.20 por hora. ¿Esta compañía puede ser acusada de pagar salarios abajo del estándar?\n",
    "Use una prueba de nivel $\\alpha = .01$."
   ]
  },
  {
   "cell_type": "markdown",
   "metadata": {
    "collapsed": false
   },
   "source": [
    "5. punto \n",
    "\n",
    "Un estudio hecho por el Children’s Hospital en Boston indica que alrededor de 67% de adultos estadounidenses\n",
    "y el 15% de niños y adolescentes tienen sobrepeso. Trece niños de una muestra aleatoria de\n",
    "100 se hallaron con sobrepeso. ¿Hay suficiente evidencia para indicar que el porcentaje publicado por el\n",
    "Children’s Hospital es demasiado alto? Pruebe con un nivel de significancia de $\\alpha$ = 0.05."
   ]
  },
  {
   "cell_type": "markdown",
   "metadata": {
    "collapsed": false
   },
   "source": [
    "6. Punto\n",
    "\n",
    "La candidata A piensa que puede ganar las elecciones en una ciudad si obtiene por lo menos\n",
    "55% de los votos en el distrito electoral 1. También piensa que alrededor de 50% de los votantes\n",
    "de la ciudad están a su favor. Si n = 100 votantes se presentan a votar en el distrito electoral\n",
    "1, ¿cuál es la probabilidad de que la candidata A reciba al menos 55% de sus votos?\n"
   ]
  },
  {
   "cell_type": "markdown",
   "metadata": {
    "collapsed": false
   },
   "source": [
    "7. Punto \n",
    "\n",
    "Una muestra de n = 1000 votantes, seleccionados al azar en una ciudad, mostró y = 560 a\n",
    "favor del candidato Jones. Estime p, la fracción de votantes de la población que están a favor\n",
    "de Jones y encuentre un intervalo de confianza de 98% para p, la proporción total de adultos que dicen que votarán por el candidato J."
   ]
  },
  {
   "cell_type": "markdown",
   "metadata": {
    "collapsed": false
   },
   "source": [
    "## ejercicio 8.27 pagina 404 "
   ]
  },
  {
   "cell_type": "markdown",
   "metadata": {
    "collapsed": false
   },
   "source": [
    "8. Punto \n",
    "\n",
    "Una muestra aleatoria de 985 “probables votantes” (a quienes se considera que probablemente voten\n",
    "en una elección próxima) fueron encuestados durante una indagación por teléfono realizada por el partido\n",
    "Rojo. De aquellos contactados, 592 indicaron que tenían intención de votar por el candidato\n",
    "Rojo en la elección.\n",
    "\n",
    "(a) encuentre la estimación para p, la proporción de todos los \"posibles votantes\" que votarán por el candidato Rojo. \n",
    "\n",
    "(b) encuentre el intervalo de confianza de 97% para p."
   ]
  },
  {
   "cell_type": "markdown",
   "metadata": {
    "collapsed": false
   },
   "source": [
    "9. Punto \n",
    "\n",
    "Con respecto al punto 8: Si el director del estudio de investigación desea que el error de estimación sea menor que 0.05 con 90% de confianza. Entonces, cuántos \"probables votantes\" deben ser entrevistados?  "
   ]
  },
  {
   "cell_type": "code",
   "execution_count": 0,
   "metadata": {
    "collapsed": false
   },
   "outputs": [
   ],
   "source": [
   ]
  },
  {
   "cell_type": "code",
   "execution_count": 0,
   "metadata": {
    "collapsed": false
   },
   "outputs": [
   ],
   "source": [
   ]
  },
  {
   "cell_type": "markdown",
   "metadata": {
    "collapsed": false
   },
   "source": [
    "# Test de Jarque-Bera "
   ]
  },
  {
   "cell_type": "markdown",
   "metadata": {
    "collapsed": false
   },
   "source": [
    "La prueba de Jarque-Bera es una prueba de bondad de ajuste para comprobar si una muestra de datos tiene la asimetría y la curtosis de una distribución normal."
   ]
  },
  {
   "cell_type": "code",
   "execution_count": 0,
   "metadata": {
    "collapsed": false
   },
   "outputs": [
   ],
   "source": [
    "La sintaxis de la función es "
   ]
  },
  {
   "cell_type": "markdown",
   "metadata": {
    "collapsed": false
   },
   "source": [
    "$$\n",
    "\\mbox{stats.jarque_bera(x)}\n",
    "$$"
   ]
  },
  {
   "cell_type": "markdown",
   "metadata": {
    "collapsed": false
   },
   "source": [
    "Apliquemosle el test a un arreglo unidimensional generados con una distribución normal (Asi que esperamos que el test de positivo!!). "
   ]
  },
  {
   "cell_type": "code",
   "execution_count": 8,
   "metadata": {
    "collapsed": false
   },
   "outputs": [
   ],
   "source": [
    "from scipy import stats\n",
    "from scipy.stats import norm"
   ]
  },
  {
   "cell_type": "code",
   "execution_count": 33,
   "metadata": {
    "collapsed": false
   },
   "outputs": [
    {
     "name": "stdout",
     "output_type": "stream",
     "text": [
      "normaltest teststat =  0.183 pvalue = 0.9124\n"
     ]
    }
   ],
   "source": [
    "# generamos la muestra de una normal estandar norm.mean()=0, norm.std()=1, norm.var()=1 \n",
    "x = norm.rvs(size=100000)\n",
    "\n",
    "#Y ahora realizamos el test \n",
    "print('normaltest teststat = %6.3f pvalue = %6.4f' % stats.jarque_bera(x))\n",
    "\n",
    "#observe que cada vez que se ejecuta este código cambian los resultados.\n",
    "#Esto se debe a que se generan numeros aleatorios distintos en cada ejecución\n",
    "#Si se desean replicar los resultados se usa x = norm.rvs(size=1000000, random_state=1234) "
   ]
  },
  {
   "cell_type": "code",
   "execution_count": 0,
   "metadata": {
    "collapsed": false
   },
   "outputs": [
   ],
   "source": [
   ]
  },
  {
   "cell_type": "markdown",
   "metadata": {
    "collapsed": false
   },
   "source": [
    "# Regresion lineal "
   ]
  },
  {
   "cell_type": "markdown",
   "metadata": {
    "collapsed": false
   },
   "source": [
    "#### Cálculo manual"
   ]
  },
  {
   "cell_type": "code",
   "execution_count": 4,
   "metadata": {
    "collapsed": false
   },
   "outputs": [
   ],
   "source": [
    "import numpy as np\n",
    "from numpy.linalg import inv"
   ]
  },
  {
   "cell_type": "code",
   "execution_count": 5,
   "metadata": {
    "collapsed": false
   },
   "outputs": [
    {
     "data": {
      "text/plain": [
       "array([[2, 1],\n",
       "       [5, 1],\n",
       "       [3, 1],\n",
       "       [7, 1]])"
      ]
     },
     "execution_count": 5,
     "metadata": {
     },
     "output_type": "execute_result"
    }
   ],
   "source": [
    "A = np.array([[2,1],[5,1],[3,1],[7,1]])\n",
    "A"
   ]
  },
  {
   "cell_type": "code",
   "execution_count": 6,
   "metadata": {
    "collapsed": false
   },
   "outputs": [
    {
     "data": {
      "text/plain": [
       "array([[1],\n",
       "       [2],\n",
       "       [3],\n",
       "       [5]])"
      ]
     },
     "execution_count": 6,
     "metadata": {
     },
     "output_type": "execute_result"
    }
   ],
   "source": [
    "b = np.array([[1],[2],[3],[5]])\n"
   ]
  },
  {
   "cell_type": "code",
   "execution_count": 56,
   "metadata": {
    "collapsed": false
   },
   "outputs": [
    {
     "data": {
      "text/plain": [
       "array([[87, 17],\n",
       "       [17,  4]])"
      ]
     },
     "execution_count": 56,
     "metadata": {
     },
     "output_type": "execute_result"
    }
   ],
   "source": [
    "A.T.dot(A)"
   ]
  },
  {
   "cell_type": "code",
   "execution_count": 60,
   "metadata": {
    "collapsed": false
   },
   "outputs": [
   ],
   "source": [
    "A_i = inv(A.T.dot(A))"
   ]
  },
  {
   "cell_type": "code",
   "execution_count": 63,
   "metadata": {
    "collapsed": false
   },
   "outputs": [
    {
     "data": {
      "text/plain": [
       "array([[0.6],\n",
       "       [0.1]])"
      ]
     },
     "execution_count": 63,
     "metadata": {
     },
     "output_type": "execute_result"
    }
   ],
   "source": [
    "Coeficiente = A_i.dot(A.T.dot(b))\n",
    "Coeficiente.round(1)"
   ]
  },
  {
   "cell_type": "code",
   "execution_count": 0,
   "metadata": {
    "collapsed": false
   },
   "outputs": [
   ],
   "source": [
   ]
  },
  {
   "cell_type": "markdown",
   "metadata": {
    "collapsed": false
   },
   "source": [
    "### Cálculo con el módulo stats"
   ]
  },
  {
   "cell_type": "markdown",
   "metadata": {
    "collapsed": false
   },
   "source": [
    "La función \"linregress\" permite calcular una regresión lineal con mínimos cuadrados. \n",
    "\n",
    "el sub módulo scipy.stats.mstats.linregress permite calcular una regresión lineal de mínimos cuadrados para dos conjuntos de mediciones. Este devuelve:"
   ]
  },
  {
   "cell_type": "code",
   "execution_count": 10,
   "metadata": {
    "collapsed": false
   },
   "outputs": [
   ],
   "source": [
    "from scipy import stats\n",
    "import numpy as np"
   ]
  },
  {
   "cell_type": "code",
   "execution_count": 24,
   "metadata": {
    "collapsed": false
   },
   "outputs": [
   ],
   "source": [
    "x = np.random.random(30)\n",
    "y = np.random.random(30)\n",
    "slope, intercepto, r_value, p_value, std_err = stats.linregress(x,y)"
   ]
  },
  {
   "cell_type": "markdown",
   "metadata": {
    "collapsed": false
   },
   "source": [
    "La recta de regresión tiene pendiente $m = -0.1$ e intercepto igual a $b = 0.6$ o sea que la recta de regresión es $y = - 0.1 x + 0.6$"
   ]
  },
  {
   "cell_type": "code",
   "execution_count": 21,
   "metadata": {
    "collapsed": false
   },
   "outputs": [
    {
     "data": {
      "text/plain": [
       "[<matplotlib.lines.Line2D at 0x7f3af623b710>,\n",
       " <matplotlib.lines.Line2D at 0x7f3af623b898>]"
      ]
     },
     "execution_count": 21,
     "metadata": {
     },
     "output_type": "execute_result"
    },
    {
     "data": {
      "image/png": "[encoded data removed]",
      "text/plain": [
       "<Figure size 432x288 with 1 Axes>"
      ]
     },
     "execution_count": 21,
     "metadata": {
      "image/png": {
       "height": 250,
       "width": 373
      }
     },
     "output_type": "execute_result"
    }
   ],
   "source": [
    "plt.plot(x,y,'o',x,slope*x+intercepto)"
   ]
  },
  {
   "cell_type": "markdown",
   "metadata": {
    "collapsed": false
   },
   "source": [
    "Referencias "
   ]
  },
  {
   "cell_type": "code",
   "execution_count": 25,
   "metadata": {
    "collapsed": false
   },
   "outputs": [
    {
     "data": {
      "text/plain": [
       "0.6"
      ]
     },
     "execution_count": 25,
     "metadata": {
     },
     "output_type": "execute_result"
    }
   ],
   "source": [
    "#### NOTA: el valor de los parámetros p"
   ]
  },
  {
   "cell_type": "code",
   "execution_count": 0,
   "metadata": {
    "collapsed": false
   },
   "outputs": [
   ],
   "source": [
   ]
  },
  {
   "cell_type": "markdown",
   "metadata": {
    "collapsed": false
   },
   "source": [
    "https://docs.scipy.org/doc/scipy/reference/tutorial/stats.html"
   ]
  },
  {
   "cell_type": "code",
   "execution_count": 0,
   "metadata": {
    "collapsed": false
   },
   "outputs": [
   ],
   "source": [
   ]
  }
 ],
 "metadata": {
  "kernelspec": {
   "display_name": "Python 3 (system-wide)",
   "language": "python",
   "metadata": {
    "cocalc": {
     "description": "Python 3 programming language",
     "priority": 100,
     "url": "https://www.python.org/"
    }
   },
   "name": "python3"
  },
  "language_info": {
   "codemirror_mode": {
    "name": "ipython",
    "version": 3
   },
   "file_extension": ".py",
   "mimetype": "text/x-python",
   "name": "python",
   "nbconvert_exporter": "python",
   "pygments_lexer": "ipython3",
   "version": "3.6.8"
  }
 },
 "nbformat": 4,
 "nbformat_minor": 0
}